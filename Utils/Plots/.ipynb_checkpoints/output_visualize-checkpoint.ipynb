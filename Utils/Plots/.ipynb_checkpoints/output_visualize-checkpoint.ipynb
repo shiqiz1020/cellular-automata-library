{
 "cells": [
  {
   "cell_type": "code",
   "execution_count": 3,
   "metadata": {},
   "outputs": [],
   "source": [
    "# CHEM 274B Final Project: Cellular Automata Library\n",
    "# Shiqi Zhang, Jerry Pan, Wang Xu\n",
    "# December 2022\n",
    "\n",
    "# Directory Path: Utils/Plots/Chem274B-CAModels.ipynb\n",
    "# This file contains the output visualization of the\n",
    "# input setup phase for the cellular automata library.\n",
    "\n",
    "# Simple CA simulator in Python\n",
    "\n",
    "# *** Cancer Metastasis ***\n",
    "\n",
    "import matplotlib\n",
    "import matplotlib.pyplot as plt\n",
    "\n",
    "# import the python libraries random (RD), SciPy (SP)\n",
    "import random as RD\n",
    "import scipy as SP\n",
    "import pandas as pd\n",
    "\n",
    "RD.seed()"
   ]
  },
  {
   "cell_type": "code",
   "execution_count": 7,
   "metadata": {},
   "outputs": [
    {
     "name": "stdout",
     "output_type": "stream",
     "text": [
      "[[31. 32. 31. 31. 31. 32. 32. 31. 32. 32.]\n",
      " [32. 32. 31. 31. 31. 32. 32. 32. 32. 32.]\n",
      " [32. 31. 31. 32. 32. 32. 32. 32. 32. 32.]\n",
      " [32. 32. 31. 32. 32. 31. 31. 32. 32. 32.]\n",
      " [32. 31. 32. 32. 31. 33. 32. 31. 31. 32.]\n",
      " [32. 32. 31. 32. 31. 34. 31. 31. 32. 32.]\n",
      " [32. 31. 32. 31. 31. 31. 32. 31. 32. 32.]\n",
      " [31. 31. 32. 32. 32. 31. 32. 32. 31. 31.]\n",
      " [32. 31. 32. 32. 32. 31. 32. 31. 31. 31.]\n",
      " [31. 31. 32. 31. 32. 31. 32. 32. 31. 32.]]\n"
     ]
    },
    {
     "name": "stderr",
     "output_type": "stream",
     "text": [
      "<ipython-input-7-39fdddfaecb0>:19: DeprecationWarning: scipy.zeros is deprecated and will be removed in SciPy 2.0.0, use numpy.zeros instead\n",
      "  result = SP.zeros([height, width])\n"
     ]
    }
   ],
   "source": [
    "# First parse the acquired txt file\n",
    "input_file = open('../Data/log.txt', 'r')\n",
    "\n",
    "# Parse metadadta\n",
    "metadata = input_file.readline().split()\n",
    "ndims = int(metadata[0])\n",
    "width = int(metadata[1])\n",
    "height = int(metadata[2])\n",
    "nstates = int(metadata[3])\n",
    "initProb = float(metadata[4])\n",
    "steps = int(metadata[5])\n",
    "\n",
    "next(input_file)\n",
    "\n",
    "# Set Color map\n",
    "cmap_reversed = matplotlib.cm.get_cmap('RdYlGn_r')\n",
    "\n",
    "# Initialize and construct result matrix\n",
    "result = SP.zeros([height, width])\n",
    "for i in range(height):\n",
    "    result[i] = [int(item) for item in next(input_file).split()]\n",
    "\n",
    "# Close input file\n",
    "input_file.close()"
   ]
  },
  {
   "cell_type": "code",
   "execution_count": 11,
   "metadata": {},
   "outputs": [
    {
     "data": {
      "image/png": "[encoded data removed]",
      "text/plain": [
       "<Figure size 432x288 with 1 Axes>"
      ]
     },
     "metadata": {
      "needs_background": "light"
     },
     "output_type": "display_data"
    },
    {
     "data": {
      "text/plain": [
       "<Figure size 432x288 with 0 Axes>"
      ]
     },
     "execution_count": 11,
     "metadata": {},
     "output_type": "execute_result"
    },
    {
     "data": {
      "text/plain": [
       "<Figure size 432x288 with 0 Axes>"
      ]
     },
     "metadata": {},
     "output_type": "display_data"
    }
   ],
   "source": [
    "# Visualize the matrix\n",
    "plt.cla()\n",
    "plt.pcolor(result, vmin = 31, vmax = (30+nstates), cmap = cmap_reversed, label = result)\n",
    "plt.axis('image')\n",
    "plt.title('initProb = ' + str(initProb) + ' ,  ' + 't = ' + str(steps))\n",
    "\n",
    "# Save the plot to a file\n",
    "plot_name = \"result_t_\" + str(steps) + \".png\"\n",
    "plt.savefig(plot_name, bbox_inches='tight', transparent=False)\n",
    "\n",
    "\n",
    "plt.show()\n",
    "plt.figure()"
   ]
  }
 ],
 "metadata": {
  "kernelspec": {
   "display_name": "Python 3",
   "language": "python",
   "name": "python3"
  },
  "language_info": {
   "codemirror_mode": {
    "name": "ipython",
    "version": 3
   },
   "file_extension": ".py",
   "mimetype": "text/x-python",
   "name": "python",
   "nbconvert_exporter": "python",
   "pygments_lexer": "ipython3",
   "version": "3.8.8"
  },
  "vscode": {
   "interpreter": {
    "hash": "31f2aee4e71d21fbe5cf8b01ff0e069b9275f58929596ceb00d14d90e3e16cd6"
   }
  }
 },
 "nbformat": 4,
 "nbformat_minor": 2
}
