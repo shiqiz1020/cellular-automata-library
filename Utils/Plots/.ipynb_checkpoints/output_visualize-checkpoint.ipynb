{
 "cells": [
  {
   "cell_type": "code",
   "execution_count": 9,
   "metadata": {},
   "outputs": [],
   "source": [
    "# CHEM 274B Final Project: Cellular Automata Library\n",
    "# Shiqi Zhang, Jerry Pan, Wang Xu\n",
    "# December 2022\n",
    "\n",
    "# Directory Path: Utils/Plots/Chem274B-CAModels.ipynb\n",
    "# This file contains the output visualization of the\n",
    "# input setup phase for the cellular automata library.\n",
    "\n",
    "# Simple CA simulator in Python\n",
    "\n",
    "# *** Cancer Metastasis ***\n",
    "\n",
    "import matplotlib\n",
    "import matplotlib.pyplot as plt\n",
    "\n",
    "# import the python libraries random (RD), SciPy (SP)\n",
    "import random as RD\n",
    "import scipy as SP\n",
    "import pandas as pd\n",
    "\n",
    "RD.seed()"
   ]
  },
  {
   "cell_type": "code",
   "execution_count": 10,
   "metadata": {},
   "outputs": [],
   "source": [
    "# Initialize and construct result matrix\n",
    "def construct_matrix():\n",
    "    next(input_file)\n",
    "\n",
    "    result = SP.zeros([height, width])\n",
    "    for i in range(height):\n",
    "        result[i] = [int(item) for item in next(input_file).split()]\n",
    "    return result"
   ]
  },
  {
   "cell_type": "code",
   "execution_count": 11,
   "metadata": {},
   "outputs": [],
   "source": [
    "# Visualize the matrix\n",
    "def visualize(step, ndims, width, height, nstates, initProb):\n",
    "    plt.cla()\n",
    "    plt.pcolor(result, vmin = 31, vmax = (30+nstates), cmap = cmap_reversed, label = result)\n",
    "    plt.axis('image')\n",
    "    plt.title('initProb = ' + str(initProb) + ' ,  ' + 't = ' + str(step))\n",
    "\n",
    "    # Save the plot to a file\n",
    "    plot_name = f\"../Data/Result/result_t_{step}_ndims_{ndims}_width_{width}_height_{height}_nstates_{nstates}_initProb_{initProb}.png\"\n",
    "    plt.savefig(plot_name, bbox_inches='tight', transparent=False)\n",
    "\n",
    "    plt.show()\n",
    "    plt.figure()\n",
    "    return;"
   ]
  },
  {
   "cell_type": "code",
   "execution_count": 12,
   "metadata": {
    "scrolled": false
   },
   "outputs": [
    {
     "name": "stderr",
     "output_type": "stream",
     "text": [
      "/Users/jerrypan/miniconda3/lib/python3.7/site-packages/ipykernel_launcher.py:5: DeprecationWarning: scipy.zeros is deprecated and will be removed in SciPy 2.0.0, use numpy.zeros instead\n",
      "  \"\"\"\n"
     ]
    },
    {
     "ename": "TypeError",
     "evalue": "visualize() missing 5 required positional arguments: 'ndims', 'width', 'height', 'nstates', and 'initProb'",
     "output_type": "error",
     "traceback": [
      "\u001b[0;31m---------------------------------------------------------------------------\u001b[0m",
      "\u001b[0;31mTypeError\u001b[0m                                 Traceback (most recent call last)",
      "\u001b[0;32m/var/folders/_4/mgpw4lqx1d30n2zg2dwwtp8w0000gn/T/ipykernel_27728/2964468688.py\u001b[0m in \u001b[0;36m<module>\u001b[0;34m\u001b[0m\n\u001b[1;32m     16\u001b[0m \u001b[0;32mfor\u001b[0m \u001b[0mstep\u001b[0m \u001b[0;32min\u001b[0m \u001b[0mrange\u001b[0m\u001b[0;34m(\u001b[0m\u001b[0;36m1\u001b[0m\u001b[0;34m,\u001b[0m \u001b[0msteps\u001b[0m \u001b[0;34m+\u001b[0m \u001b[0;36m1\u001b[0m\u001b[0;34m)\u001b[0m\u001b[0;34m:\u001b[0m\u001b[0;34m\u001b[0m\u001b[0;34m\u001b[0m\u001b[0m\n\u001b[1;32m     17\u001b[0m     \u001b[0mresult\u001b[0m \u001b[0;34m=\u001b[0m \u001b[0mconstruct_matrix\u001b[0m\u001b[0;34m(\u001b[0m\u001b[0;34m)\u001b[0m\u001b[0;34m\u001b[0m\u001b[0;34m\u001b[0m\u001b[0m\n\u001b[0;32m---> 18\u001b[0;31m     \u001b[0mvisualize\u001b[0m\u001b[0;34m(\u001b[0m\u001b[0mstep\u001b[0m\u001b[0;34m)\u001b[0m\u001b[0;34m\u001b[0m\u001b[0;34m\u001b[0m\u001b[0m\n\u001b[0m\u001b[1;32m     19\u001b[0m \u001b[0;34m\u001b[0m\u001b[0m\n\u001b[1;32m     20\u001b[0m \u001b[0;31m# Close input file\u001b[0m\u001b[0;34m\u001b[0m\u001b[0;34m\u001b[0m\u001b[0;34m\u001b[0m\u001b[0m\n",
      "\u001b[0;31mTypeError\u001b[0m: visualize() missing 5 required positional arguments: 'ndims', 'width', 'height', 'nstates', and 'initProb'"
     ]
    }
   ],
   "source": [
    "# First parse the acquired txt file\n",
    "input_file = open('../Data/log.txt', 'r')\n",
    "\n",
    "# Parse metadadta\n",
    "metadata = input_file.readline().split()\n",
    "ndims = int(metadata[0])\n",
    "width = int(metadata[1])\n",
    "height = int(metadata[2])\n",
    "nstates = int(metadata[3])\n",
    "initProb = float(metadata[4])\n",
    "steps = int(metadata[5])\n",
    "\n",
    "# Set Color map\n",
    "cmap_reversed = matplotlib.cm.get_cmap('RdYlGn_r')\n",
    "\n",
    "for step in range(1, steps + 1):\n",
    "    result = construct_matrix()\n",
    "    visualize(step, ndims, width, height, nstates, initProb)\n",
    "\n",
    "# Close input file\n",
    "input_file.close()"
   ]
  },
  {
   "cell_type": "code",
   "execution_count": null,
   "metadata": {},
   "outputs": [],
   "source": []
  },
  {
   "cell_type": "code",
   "execution_count": null,
   "metadata": {},
   "outputs": [],
   "source": []
  }
 ],
 "metadata": {
  "kernelspec": {
   "display_name": "Python 3 (ipykernel)",
   "language": "python",
   "name": "python3"
  },
  "language_info": {
   "codemirror_mode": {
    "name": "ipython",
    "version": 3
   },
   "file_extension": ".py",
   "mimetype": "text/x-python",
   "name": "python",
   "nbconvert_exporter": "python",
   "pygments_lexer": "ipython3",
   "version": "3.7.10"
  },
  "varInspector": {
   "cols": {
    "lenName": 16,
    "lenType": 16,
    "lenVar": 40
   },
   "kernels_config": {
    "python": {
     "delete_cmd_postfix": "",
     "delete_cmd_prefix": "del ",
     "library": "var_list.py",
     "varRefreshCmd": "print(var_dic_list())"
    },
    "r": {
     "delete_cmd_postfix": ") ",
     "delete_cmd_prefix": "rm(",
     "library": "var_list.r",
     "varRefreshCmd": "cat(var_dic_list()) "
    }
   },
   "types_to_exclude": [
    "module",
    "function",
    "builtin_function_or_method",
    "instance",
    "_Feature"
   ],
   "window_display": false
  },
  "vscode": {
   "interpreter": {
    "hash": "31f2aee4e71d21fbe5cf8b01ff0e069b9275f58929596ceb00d14d90e3e16cd6"
   }
  }
 },
 "nbformat": 4,
 "nbformat_minor": 2
}
